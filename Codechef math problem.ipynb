{
 "cells": [
  {
   "cell_type": "code",
   "execution_count": 4,
   "id": "exterior-pioneer",
   "metadata": {},
   "outputs": [
    {
     "name": "stdout",
     "output_type": "stream",
     "text": [
      "11\n"
     ]
    }
   ],
   "source": [
    "n=56\n",
    "print((n//10)+(n%10))"
   ]
  },
  {
   "cell_type": "code",
   "execution_count": 12,
   "id": "upper-ceiling",
   "metadata": {},
   "outputs": [],
   "source": [
    "from math import log"
   ]
  },
  {
   "cell_type": "code",
   "execution_count": 13,
   "id": "right-resistance",
   "metadata": {},
   "outputs": [],
   "source": [
    "def closest_power(a,b):\n",
    "    a=2\n",
    "    b=4\n",
    "    c=(math.log(b,a))\n",
    "    print(c)"
   ]
  },
  {
   "cell_type": "code",
   "execution_count": 22,
   "id": "gorgeous-stamp",
   "metadata": {},
   "outputs": [
    {
     "name": "stdout",
     "output_type": "stream",
     "text": [
      "11\n",
      "12\n"
     ]
    }
   ],
   "source": [
    "# cook your dish here\n",
    "from math import sqrt\n",
    "try:\n",
    "       \n",
    "    for i in range(int(input())):\n",
    "        a,b=map(int,input().split())\n",
    "        s=set()\n",
    "        a=max(a,2)\n",
    "        for i in range(2,int(sqrt(b))+1):\n",
    "            for j in range(max(a//i,2),(b//i)+1):\n",
    "                s.add(i*j)\n",
    "        for i in range(a,b+1):\n",
    "            if(i not in s):\n",
    "                print(i)\n",
    "        # print(s)\n",
    "        print()\n",
    "            \n",
    "            \n",
    "except:\n",
    "    pass"
   ]
  },
  {
   "cell_type": "code",
   "execution_count": null,
   "id": "increasing-ready",
   "metadata": {},
   "outputs": [],
   "source": []
  }
 ],
 "metadata": {
  "kernelspec": {
   "display_name": "Python 3",
   "language": "python",
   "name": "python3"
  },
  "language_info": {
   "codemirror_mode": {
    "name": "ipython",
    "version": 3
   },
   "file_extension": ".py",
   "mimetype": "text/x-python",
   "name": "python",
   "nbconvert_exporter": "python",
   "pygments_lexer": "ipython3",
   "version": "3.7.10"
  }
 },
 "nbformat": 4,
 "nbformat_minor": 5
}
